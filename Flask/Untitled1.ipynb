{
 "cells": [
  {
   "cell_type": "code",
   "execution_count": null,
   "id": "7d138bdc",
   "metadata": {},
   "outputs": [
    {
     "name": "stdout",
     "output_type": "stream",
     "text": [
      "Loaded model from disk\n",
      " * Serving Flask app \"__main__\" (lazy loading)\n",
      " * Environment: production\n",
      "\u001b[31m   WARNING: This is a development server. Do not use it in a production deployment.\u001b[0m\n",
      "\u001b[2m   Use a production WSGI server instead.\u001b[0m\n",
      " * Debug mode: off\n"
     ]
    },
    {
     "name": "stderr",
     "output_type": "stream",
     "text": [
      " * Running on http://127.0.0.1:5000/ (Press CTRL+C to quit)\n",
      "127.0.0.1 - - [18/Oct/2022 20:41:08] \"GET / HTTP/1.1\" 200 -\n",
      "127.0.0.1 - - [18/Oct/2022 20:41:11] \"GET /favicon.ico HTTP/1.1\" 404 -\n",
      "127.0.0.1 - - [18/Oct/2022 20:41:16] \"GET /image1 HTTP/1.1\" 200 -\n",
      "[2022-10-18 20:41:19,119] ERROR in app: Exception on /predict [POST]\n",
      "Traceback (most recent call last):\n",
      "  File \"C:\\Users\\91720\\anaconda3\\lib\\site-packages\\flask\\app.py\", line 2447, in wsgi_app\n",
      "    response = self.full_dispatch_request()\n",
      "  File \"C:\\Users\\91720\\anaconda3\\lib\\site-packages\\flask\\app.py\", line 1952, in full_dispatch_request\n",
      "    rv = self.handle_user_exception(e)\n",
      "  File \"C:\\Users\\91720\\anaconda3\\lib\\site-packages\\flask\\app.py\", line 1821, in handle_user_exception\n",
      "    reraise(exc_type, exc_value, tb)\n",
      "  File \"C:\\Users\\91720\\anaconda3\\lib\\site-packages\\flask\\_compat.py\", line 39, in reraise\n",
      "    raise value\n",
      "  File \"C:\\Users\\91720\\anaconda3\\lib\\site-packages\\flask\\app.py\", line 1950, in full_dispatch_request\n",
      "    rv = self.dispatch_request()\n",
      "  File \"C:\\Users\\91720\\anaconda3\\lib\\site-packages\\flask\\app.py\", line 1936, in dispatch_request\n",
      "    return self.view_functions[rule.endpoint](**req.view_args)\n",
      "  File \"C:\\Users\\91720\\AppData\\Local\\Temp/ipykernel_16444/2659060742.py\", line 33, in launch\n",
      "    f.save(filepath)#saving the file\n",
      "  File \"C:\\Users\\91720\\anaconda3\\lib\\site-packages\\werkzeug\\datastructures.py\", line 3021, in save\n",
      "    dst = open(dst, \"wb\")\n",
      "FileNotFoundError: [Errno 2] No such file or directory: 'uploads\\\\'\n",
      "127.0.0.1 - - [18/Oct/2022 20:41:19] \"POST /predict HTTP/1.1\" 500 -\n"
     ]
    },
    {
     "name": "stdout",
     "output_type": "stream",
     "text": [
      "prediction [3]\n",
      "PINEAPPLE\n"
     ]
    },
    {
     "name": "stderr",
     "output_type": "stream",
     "text": [
      "127.0.0.1 - - [18/Oct/2022 20:41:35] \"POST /predict HTTP/1.1\" 200 -\n",
      "127.0.0.1 - - [18/Oct/2022 20:41:35] \"GET /static/style.css HTTP/1.1\" 404 -\n"
     ]
    },
    {
     "name": "stdout",
     "output_type": "stream",
     "text": [
      "{\"items\": [{\"sugar_g\": 9.9, \"fiber_g\": 1.4, \"serving_size_g\": 100.0, \"sodium_mg\": 0, \"name\": \"pineapple\", \"potassium_mg\": 8, \"fat_saturated_g\": 0.0, \"fat_total_g\": 0.1, \"calories\": 50.8, \"cholesterol_mg\": 0, \"protein_g\": 0.5, \"carbohydrates_total_g\": 13.0}]}\n",
      "[{'sugar_g': 9.9, 'fiber_g': 1.4, 'serving_size_g': 100.0, 'sodium_mg': 0, 'name': 'pineapple', 'potassium_mg': 8, 'fat_saturated_g': 0.0, 'fat_total_g': 0.1, 'calories': 50.8, 'cholesterol_mg': 0, 'protein_g': 0.5, 'carbohydrates_total_g': 13.0}]\n"
     ]
    }
   ],
   "source": [
    "from flask import Flask,render_template,request\n",
    "# Flask-It is our framework which we are going to use to run/serve our application.\n",
    "#request-for accessing file which was uploaded by the user on our application.\n",
    "import os\n",
    "import numpy as np #used for numerical analysis\n",
    "from tensorflow.keras.models import load_model#to load our trained model\n",
    "from tensorflow.keras.preprocessing import image\n",
    "import requests\n",
    "\n",
    "\n",
    "app = Flask(__name__,template_folder=\"templates\") # initializing a flask app\n",
    "# Loading the model\n",
    "model=load_model('nutrition.h5')\n",
    "print(\"Loaded model from disk\")\n",
    "\n",
    "\n",
    "@app.route('/')# route to display the home page\n",
    "def home():\n",
    "    return render_template('home.html')#rendering the home page\n",
    "\n",
    "@app.route('/image1',methods=['GET','POST'])# routes to the index html\n",
    "def image1():\n",
    "    return render_template(\"image.html\")\n",
    "\n",
    "\n",
    "\n",
    "@app.route('/predict',methods=['GET', 'POST'])# route to show the predictions in a web UI\n",
    "def launch():\n",
    "    if request.method=='POST':\n",
    "        f=request.files['file'] #requesting the file\n",
    "        basepath=os.path.dirname('__file__')#storing the file directory\n",
    "        filepath=os.path.join(basepath,\"uploads\",f.filename)#storing the file in uploads folder\n",
    "        f.save(filepath)#saving the file\n",
    "        \n",
    "        img=image.load_img(filepath,target_size=(64,64)) #load and reshaping the image\n",
    "        x=image.img_to_array(img)#converting image to an array\n",
    "        x=np.expand_dims(x,axis=0)#changing the dimensions of the image\n",
    "\n",
    "        pred=np.argmax(model.predict(x), axis=1)\n",
    "        print(\"prediction\",pred)#printing the prediction\n",
    "        index=['APPLES','BANANA','ORANGE','PINEAPPLE','WATERMELON']\n",
    "        \n",
    "        result=str(index[pred[0]])\n",
    "                    \n",
    "        x=result\n",
    "        print(x)\n",
    "        result=nutrition(result)\n",
    "        print(result)\n",
    "        \n",
    "        return render_template(\"0.html\",showcase=(result),showcase1=(x))\n",
    "def nutrition(index):\n",
    "\n",
    "\n",
    "    url = \"https://calorieninjas.p.rapidapi.com/v1/nutrition\"\n",
    "    \n",
    "    querystring = {\"query\":index}\n",
    "    \n",
    "    headers = {\n",
    "        'x-rapidapi-key': \"5d797ab107mshe668f26bd044e64p1ffd34jsnf47bfa9a8ee4\",\n",
    "        'x-rapidapi-host': \"calorieninjas.p.rapidapi.com\"\n",
    "        }\n",
    "    \n",
    "    response = requests.request(\"GET\", url, headers=headers, params=querystring)\n",
    "    \n",
    "    print(response.text)     \n",
    "    return response.json()['items']\n",
    "if __name__ == \"__main__\":\n",
    "   # running the app\n",
    "    app.run(debug=False)\n",
    "\n",
    "    "
   ]
  },
  {
   "cell_type": "code",
   "execution_count": null,
   "id": "dc0a5bb3",
   "metadata": {},
   "outputs": [],
   "source": []
  },
  {
   "cell_type": "code",
   "execution_count": null,
   "id": "84215dcf",
   "metadata": {},
   "outputs": [],
   "source": []
  }
 ],
 "metadata": {
  "kernelspec": {
   "display_name": "Python 3 (ipykernel)",
   "language": "python",
   "name": "python3"
  },
  "language_info": {
   "codemirror_mode": {
    "name": "ipython",
    "version": 3
   },
   "file_extension": ".py",
   "mimetype": "text/x-python",
   "name": "python",
   "nbconvert_exporter": "python",
   "pygments_lexer": "ipython3",
   "version": "3.9.7"
  }
 },
 "nbformat": 4,
 "nbformat_minor": 5
}
